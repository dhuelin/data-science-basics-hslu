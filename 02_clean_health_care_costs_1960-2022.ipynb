{
 "cells": [
  {
   "cell_type": "markdown",
   "id": "4d6965b9",
   "metadata": {},
   "source": [
    "\n",
    "# Cleaning and Preprocessing Healthcare Cost Data\n",
    "\n",
    "This Jupyter Notebook cleans and preprocesses healthcare cost data from the provided Excel file. The steps ensure the data is aligned correctly and ready for analysis. Below is a detailed explanation of each step in the process.\n",
    "\n",
    "---\n",
    "## Step 1: Load Raw Data\n",
    "\n",
    "The raw data is loaded from an Excel file. We inspect the file's structure to identify any issues with headers, row alignment, or missing values. This step ensures we have a clear understanding of the dataset before processing.\n",
    "\n",
    "Key points:\n",
    "- The dataset is loaded without skipping rows to inspect its structure.\n",
    "- The first 10 rows are displayed to visualize the content.\n",
    "\n",
    "---\n",
    "## Step 2: Inspect Columns\n",
    "\n",
    "The column names are printed for debugging. This helps identify:\n",
    "- Any unnecessary columns (e.g., \"Unnamed\" columns).\n",
    "- Columns that need renaming for clarity.\n",
    "\n",
    "If columns are irrelevant, they are dropped before further processing.\n",
    "\n",
    "---\n",
    "## Step 3: Rename Columns\n",
    "\n",
    "After inspecting the raw data, we rename the columns to descriptive names for better understanding. The renaming aligns with the dataset's content and ensures consistency throughout the analysis.\n",
    "\n",
    "Key points:\n",
    "- Only relevant columns are retained.\n",
    "- Columns are renamed to match the dataset's structure.\n",
    "\n",
    "---\n",
    "## Step 4: Validate the \"Year\" Column\n",
    "\n",
    "The \"Year\" column is inspected to ensure it contains valid year values. Invalid rows (e.g., where the year is not a number or out of range) are filtered out.\n",
    "\n",
    "Key points:\n",
    "- The \"Year\" column must contain integer values representing valid years.\n",
    "- Rows with invalid or missing year data are dropped.\n",
    "\n",
    "---\n",
    "## Step 5: Convert Numeric Columns\n",
    "\n",
    "Numeric columns (e.g., healthcare costs, GDP, population) are converted to numeric types to ensure compatibility for analysis. Any non-numeric values are handled gracefully.\n",
    "\n",
    "Key points:\n",
    "- Non-numeric entries are coerced to `NaN`.\n",
    "- The \"Population (Thousands)\" column is multiplied by 1000 to get the total population.\n",
    "\n",
    "---\n",
    "## Step 6: Save the Cleaned Data\n",
    "\n",
    "The cleaned dataset is saved as a CSV file. This file can be used for further analysis or visualization.\n",
    "\n",
    "Key points:\n",
    "- The output file is named `cleaned_health_care_costs.csv`.\n",
    "- The file is stored in the `Data` directory.\n",
    "\n",
    "---\n"
   ]
  },
  {
   "cell_type": "code",
   "execution_count": 10,
   "metadata": {},
   "outputs": [
    {
     "name": "stdout",
     "output_type": "stream",
     "text": [
      "Raw Data (first 10 rows):\n",
      "                                         0                             1  \\\n",
      "0  Kosten des Gesundheitswesens seit 1960*                           NaN   \n",
      "1                                      NaN                           NaN   \n",
      "2                                     Jahr  Kosten des Gesundheitswesens   \n",
      "3                                      NaN       Nominal in Mio. Franken   \n",
      "4                                     1960                   2005.221487   \n",
      "5                                     1961                   2128.454719   \n",
      "6                                     1962                   2309.713995   \n",
      "7                                     1963                   2490.549977   \n",
      "8                                     1964                   2754.286352   \n",
      "9                                     1965                   3041.528518   \n",
      "\n",
      "                2                          3               4          5  \\\n",
      "0             NaN                        NaN             NaN        NaN   \n",
      "1             NaN                        NaN             NaN        NaN   \n",
      "2             NaN  Bruttoinlandprodukt (BIP)             NaN        NaN   \n",
      "3  Index 1995=100    Nominal in Mio. Franken  Index 1995=100  % des BIP   \n",
      "4         5.56821               45057.732575       10.799298   4.450338   \n",
      "5        5.910411               50688.441997       12.148849   4.199093   \n",
      "6        6.413742               56210.636678       13.472392   4.109034   \n",
      "7        6.915897               61811.203116       14.814718   4.029286   \n",
      "8        7.648255               68515.002771       16.421464   4.019976   \n",
      "9        8.445885               73380.080399       17.587511   4.144897   \n",
      "\n",
      "                                               6  \\\n",
      "0                                            NaN   \n",
      "1                                            NaN   \n",
      "2  Durchschnittliche Wohnbevölkerung, in Tausend   \n",
      "3                                            NaN   \n",
      "4                                           5362   \n",
      "5                                           5512   \n",
      "6                                           5666   \n",
      "7                                           5789   \n",
      "8                                           5887   \n",
      "9                                           5943   \n",
      "\n",
      "                                                   7  \n",
      "0                                                NaN  \n",
      "1                                                NaN  \n",
      "2  Kosten des Gesundheitswesens pro Kopf und Mona...  \n",
      "3                                                NaN  \n",
      "4                                          31.164079  \n",
      "5                                          32.179105  \n",
      "6                                          33.970379  \n",
      "7                                          35.851759  \n",
      "8                                          38.988256  \n",
      "9                                          42.648613  \n"
     ]
    }
   ],
   "source": [
    "import pandas as pd\n",
    "\n",
    "# Define file path\n",
    "file_path = \"./Data/health_care_cost_1960-2022.xlsx\"\n",
    "\n",
    "# Load the raw data without skipping rows to inspect\n",
    "raw_df = pd.read_excel(file_path, sheet_name=0, header=None)\n",
    "\n",
    "# Inspect the raw data structure\n",
    "print(\"Raw Data (first 10 rows):\")\n",
    "print(raw_df.head(10))"
   ]
  },
  {
   "cell_type": "code",
   "execution_count": 11,
   "metadata": {},
   "outputs": [
    {
     "name": "stdout",
     "output_type": "stream",
     "text": [
      "Column names: Index(['Unnamed: 0', 'Nominal in Mio. Franken', 'Index 1995=100',\n",
      "       'Nominal in Mio. Franken.1', 'Index 1995=100.1', '% des BIP',\n",
      "       'Unnamed: 6', 'Unnamed: 7'],\n",
      "      dtype='object')\n",
      "First few rows of data:\n",
      "  Unnamed: 0  Nominal in Mio. Franken  Index 1995=100  \\\n",
      "0       1960              2005.221487        5.568210   \n",
      "1       1961              2128.454719        5.910411   \n",
      "2       1962              2309.713995        6.413742   \n",
      "3       1963              2490.549977        6.915897   \n",
      "4       1964              2754.286352        7.648255   \n",
      "\n",
      "   Nominal in Mio. Franken.1  Index 1995=100.1  % des BIP  Unnamed: 6  \\\n",
      "0               45057.732575         10.799298   4.450338      5362.0   \n",
      "1               50688.441997         12.148849   4.199093      5512.0   \n",
      "2               56210.636678         13.472392   4.109034      5666.0   \n",
      "3               61811.203116         14.814718   4.029286      5789.0   \n",
      "4               68515.002771         16.421464   4.019976      5887.0   \n",
      "\n",
      "   Unnamed: 7  \n",
      "0   31.164079  \n",
      "1   32.179105  \n",
      "2   33.970379  \n",
      "3   35.851759  \n",
      "4   38.988256  \n"
     ]
    }
   ],
   "source": [
    "\n",
    "# Reload the file with correct row and column alignment\n",
    "df = pd.read_excel(file_path, sheet_name=0, skiprows=3)\n",
    "\n",
    "# Inspect the column names and first few rows\n",
    "print(f\"Column names: {df.columns}\")\n",
    "print(\"First few rows of data:\")\n",
    "print(df.head())"
   ]
  },
  {
   "cell_type": "code",
   "execution_count": 12,
   "metadata": {},
   "outputs": [],
   "source": [
    "\n",
    "# Correct potential misalignment by inspecting the \"Year\" column\n",
    "if \"Year\" in df.columns:\n",
    "    print(\"Values in 'Year' column:\")\n",
    "    print(df[\"Year\"].head())\n"
   ]
  },
  {
   "cell_type": "code",
   "execution_count": 13,
   "metadata": {},
   "outputs": [],
   "source": [
    "\n",
    "# Rename columns after confirming the correct structure\n",
    "df.columns = [\n",
    "    \"Year\", \"Healthcare Costs (Nominal, CHF)\", \"Index 1995=100 (Healthcare Costs)\",\n",
    "    \"GDP Nominal (CHF)\", \"Index 1995=100 (GDP)\", \"% of GDP\",\n",
    "    \"Population (Thousands)\", \"Healthcare Costs per Capita (CHF)\"\n",
    "]"
   ]
  },
  {
   "cell_type": "code",
   "execution_count": 14,
   "metadata": {},
   "outputs": [],
   "source": [
    "\n",
    "# Ensure the \"Year\" column contains valid years\n",
    "try:\n",
    "    df[\"Year\"] = pd.to_numeric(df[\"Year\"], errors=\"coerce\").dropna().astype(int)\n",
    "    df = df[df[\"Year\"] >= 1900]  # Filter out invalid years\n",
    "except Exception as e:\n",
    "    print(f\"Error processing 'Year' column: {e}\")\n"
   ]
  },
  {
   "cell_type": "code",
   "execution_count": 15,
   "metadata": {},
   "outputs": [],
   "source": [
    "\n",
    "# Convert numeric columns to appropriate types\n",
    "numeric_columns = [\n",
    "    \"Healthcare Costs (Nominal, CHF)\", \"Index 1995=100 (Healthcare Costs)\",\n",
    "    \"GDP Nominal (CHF)\", \"Index 1995=100 (GDP)\", \"% of GDP\",\n",
    "    \"Population (Thousands)\", \"Healthcare Costs per Capita (CHF)\"\n",
    "]\n",
    "for col in numeric_columns:\n",
    "    if col in df.columns:\n",
    "        df[col] = pd.to_numeric(df[col], errors=\"coerce\")\n"
   ]
  },
  {
   "cell_type": "code",
   "execution_count": 16,
   "metadata": {},
   "outputs": [],
   "source": [
    "\n",
    "# Convert Population (Thousands) to total population\n",
    "if \"Population (Thousands)\" in df.columns:\n",
    "    df[\"Population\"] = df[\"Population (Thousands)\"] * 1000\n"
   ]
  },
  {
   "cell_type": "code",
   "execution_count": 17,
   "metadata": {},
   "outputs": [
    {
     "name": "stdout",
     "output_type": "stream",
     "text": [
      "Cleaned data saved to './Data/cleaned_health_care_costs.csv'.\n"
     ]
    }
   ],
   "source": [
    "# Save the cleaned data to a CSV file\n",
    "output_path = \"./Data/cleaned_health_care_costs.csv\"\n",
    "df.to_csv(output_path, index=False)\n",
    "\n",
    "print(f\"Cleaned data saved to '{output_path}'.\")"
   ]
  }
 ],
 "metadata": {
  "kernelspec": {
   "display_name": "Python 3",
   "language": "python",
   "name": "python3"
  },
  "language_info": {
   "codemirror_mode": {
    "name": "ipython",
    "version": 3
   },
   "file_extension": ".py",
   "mimetype": "text/x-python",
   "name": "python",
   "nbconvert_exporter": "python",
   "pygments_lexer": "ipython3",
   "version": "3.12.0"
  }
 },
 "nbformat": 4,
 "nbformat_minor": 2
}
