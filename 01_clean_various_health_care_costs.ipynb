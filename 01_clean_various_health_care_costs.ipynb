{
 "cells": [
  {
   "cell_type": "code",
   "execution_count": 1,
   "metadata": {},
   "outputs": [
    {
     "name": "stdout",
     "output_type": "stream",
     "text": [
      "  Unnamed: 0   Unnamed: 1 Unnamed: 2        Unnamed: 3 Unnamed: 4  \\\n",
      "0      value  Absolutwert          S  Leistung - Total          M   \n",
      "1        NaN          NaN        NaN               NaN        NaN   \n",
      "2        NaN          NaN        NaN               NaN        NaN   \n",
      "3        NaN          NaN        NaN               NaN        NaN   \n",
      "4        NaN          NaN        NaN               NaN        NaN   \n",
      "\n",
      "                            Unnamed: 5  Unnamed: 6          Unnamed: 7  \\\n",
      "0  Art der Leistungserbringung - Total        -9.0  Geschlecht - Total   \n",
      "1                                  NaN         NaN                 NaN   \n",
      "2                                  NaN         NaN                 NaN   \n",
      "3                                  NaN         NaN                 NaN   \n",
      "4                                  NaN         NaN                 NaN   \n",
      "\n",
      "   Unnamed: 8            Unnamed: 9  ...      2013      2014     2015  \\\n",
      "0       -99.0  Altersklasse - Total  ...  69484.45  71218.99  73510.4   \n",
      "1         0.0             0-5 Jahre  ...      1906   1944.54  2058.69   \n",
      "2         6.0            6-10 Jahre  ...    857.52    876.28   907.27   \n",
      "3        11.0           11-15 Jahre  ...   1220.78   1235.81  1275.25   \n",
      "4        16.0           16-20 Jahre  ...    1898.5   1926.38  2003.62   \n",
      "\n",
      "       2016      2017      2018      2019      2020      2021      2022  \n",
      "0  76118.34  78128.31  79458.69  81909.76  83622.55  89234.24  91481.91  \n",
      "1   2132.81   2169.83   2159.54   2175.67   2100.74   2295.18   2421.72  \n",
      "2    987.15    983.63    997.21   1043.49   1076.66   1169.71   1223.96  \n",
      "3   1328.06   1258.65   1307.92   1386.11   1425.71    1566.3   1596.76  \n",
      "4   2063.43   2107.57    2171.4   2184.61   2196.21   2425.69   2561.89  \n",
      "\n",
      "[5 rows x 23 columns]\n",
      "Original column names: Index(['Unnamed: 0', 'Unnamed: 1', 'Unnamed: 2', 'Unnamed: 3', 'Unnamed: 4',\n",
      "       'Unnamed: 5', 'Unnamed: 6', 'Unnamed: 7', 'Unnamed: 8', 'Unnamed: 9',\n",
      "       '2010', '2011', '2012', '2013', '2014', '2015', '2016', '2017', '2018',\n",
      "       '2019', '2020', '2021', '2022'],\n",
      "      dtype='object')\n"
     ]
    }
   ],
   "source": [
    "import pandas as pd\n",
    "\n",
    "# Define file path\n",
    "file_path = \"./Data/various_health_care_cost.xlsx\"\n",
    "# Load the data and skip metadata rows\n",
    "df = pd.read_excel(file_path, sheet_name=0, skiprows=3)\n",
    "\n",
    "# Debug column names and count\n",
    "print(\"Original column names:\", df.columns)\n",
    "print(f\"Number of columns: {len(df.columns)}\")\n",
    "\n"
   ]
  },
  {
   "cell_type": "code",
   "execution_count": null,
   "metadata": {},
   "outputs": [],
   "source": [
    "\n",
    "# Drop unnecessary \"Unnamed\" columns\n",
    "df = df.loc[:, ~df.columns.str.contains(\"Unnamed\")]\n"
   ]
  },
  {
   "cell_type": "code",
   "execution_count": null,
   "metadata": {},
   "outputs": [],
   "source": [
    "\n",
    "# Rename columns manually to ensure clarity\n",
    "df.columns = [\n",
    "    \"Measure\", \"Absolute Value\", \"Service Total\", \"M\", \"Service Provider Total\",\n",
    "    \"Unknown Col 1\", \"Gender Total\", \"Unknown Col 2\", \"Age Group\"\n",
    "] + [str(year) for year in range(2010, 2023)]\n"
   ]
  },
  {
   "cell_type": "code",
   "execution_count": null,
   "metadata": {},
   "outputs": [],
   "source": [
    "\n",
    "# Drop rows where \"Age Group\" is NaN\n",
    "df = df[df[\"Age Group\"].notna()]\n"
   ]
  },
  {
   "cell_type": "code",
   "execution_count": null,
   "metadata": {},
   "outputs": [],
   "source": [
    "\n",
    "# Convert year columns to numeric\n",
    "for year in range(2010, 2023):\n",
    "    if str(year) in df.columns:\n",
    "        df[str(year)] = pd.to_numeric(df[str(year)], errors=\"coerce\")\n"
   ]
  },
  {
   "cell_type": "code",
   "execution_count": null,
   "metadata": {},
   "outputs": [],
   "source": [
    "\n",
    "# Save the cleaned data to a CSV file\n",
    "output_path = \"./Data/cleaned_various_health_care_costs.csv\"\n",
    "df.to_csv(output_path, index=False)\n",
    "\n",
    "print(f\"Cleaned data saved to '{output_path}'.\")"
   ]
  }
 ],
 "metadata": {
  "kernelspec": {
   "display_name": "Python 3",
   "language": "python",
   "name": "python3"
  },
  "language_info": {
   "codemirror_mode": {
    "name": "ipython",
    "version": 3
   },
   "file_extension": ".py",
   "mimetype": "text/x-python",
   "name": "python",
   "nbconvert_exporter": "python",
   "pygments_lexer": "ipython3",
   "version": "3.12.0"
  }
 },
 "nbformat": 4,
 "nbformat_minor": 2
}
